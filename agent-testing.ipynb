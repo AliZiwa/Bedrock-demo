{
 "cells": [
  {
   "cell_type": "code",
   "execution_count": null,
   "id": "60c6d499-f27e-4328-9c03-f6ee005683f0",
   "metadata": {},
   "outputs": [],
   "source": [
    "import boto3\n",
    "import uuid\n",
    "from util import *"
   ]
  },
  {
   "cell_type": "code",
   "execution_count": null,
   "id": "5ccedda1-b07d-47f3-b560-b9721b4dab82",
   "metadata": {},
   "outputs": [],
   "source": [
    "bedrock_agent = boto3.client(service_name='bedrock-agent', region_name='us-east-1')\n",
    "bedrock_agent_runtime = boto3.client(service_name='bedrock-agent-runtime', region_name='us-east-1')"
   ]
  },
  {
   "cell_type": "code",
   "execution_count": null,
   "id": "da0f1673-d392-4a4c-9fd0-3f57fbd870e5",
   "metadata": {},
   "outputs": [],
   "source": [
    "agentId = 'JAK1WPUITE'\n",
    "agentAliasId = 'EJASANFEPP'"
   ]
  },
  {
   "cell_type": "code",
   "execution_count": null,
   "id": "3dd415d7-0eae-4834-b327-50f1137605e2",
   "metadata": {},
   "outputs": [],
   "source": [
    "sessionId = str(uuid.uuid4())"
   ]
  },
  {
   "cell_type": "code",
   "execution_count": 16,
   "id": "aeb177a1-bb67-4bea-81bd-1bfe75e8c985",
   "metadata": {},
   "outputs": [
    {
     "name": "stdout",
     "output_type": "stream",
     "text": [
      "User: Lost bag flight UA123 phone number +17028867563\n",
      "\n",
      "Agent: event: {'trace': {'agentAliasId': 'EJASANFEPP', 'agentId': 'JAK1WPUITE', 'agentVersion': '3', 'callerChain': [{'agentAliasArn': 'arn:aws:bedrock:us-east-1:937491601408:agent-alias/JAK1WPUITE/EJASANFEPP'}], 'eventTime': datetime.datetime(2025, 9, 10, 16, 32, 43, 577918, tzinfo=tzutc()), 'sessionId': 'adca1c5e-16b1-4a30-bfe3-228eafb94946', 'trace': {'orchestrationTrace': {'modelInvocationInput': {'foundationModel': 'mistral.mistral-large-2402-v1:0', 'inferenceConfiguration': {'stopSequences': ['</answer>']}, 'text': '{\"system\":\" You are an AWS Bedrock-powered airline customer service agent that helps customers with various travel-related requests including baggage tracking, flight information, booking, and reservation management.  **Your Available Functions:** 1. **Baggage Tracking** - Locate customer luggage using phone number and flight number 2. **Flight Status Checking** - Get real-time flight information using flight number 3. **Flight Booking** - Create new flight reservations with passenger details 4. **Reservation Management** - Cancel existing bookings using confirmation codes  **Input Processing:** - **Phone Numbers**: Validate US format before processing any requests - **Flight Numbers**: Accept standard airline format (e.g., AA1234, DL567) - **Confirmation Codes**: Accept alphanumeric codes for cancellations - **Dates**: Accept standard date formats (MM/DD/YYYY, YYYY-MM-DD)  **Function-Specific Instructions:**  **BAGGAGE TRACKING:** - Requires: Phone number (US format) + Flight number - Query AWS Bedrock action groups for baggage information - 30-second timeout limit - Handle partial matches by returning all potentially relevant results  **FLIGHT STATUS:** - Requires: Flight number only - Provide current status, departure/arrival times, gate information - Include delay or cancellation details when applicable  **FLIGHT BOOKING:** - Requires: Departure city, arrival city, departure date, passenger name, phone number - Generate confirmation code and provide complete booking details - Validate all required fields before processing  **RESERVATION CANCELLATION:** - Requires: Confirmation code + phone number for verification - Process cancellation and provide refund timeline information  **Response Format Guidelines:**  **SUCCESS RESPONSES:** Status: SUCCESS Service: [BAGGAGE_TRACKING/FLIGHT_STATUS/BOOKING/CANCELLATION] Details: [Specific information based on service type]  **For Baggage Tracking:** Status: SUCCESS Service: BAGGAGE_TRACKING Bags Found: [Number] Bag Details:  Bag Tag: [Tag number] Location: [Carousel/Claim area] Status: [Available/In transit/etc.] Flight Status: [On time/Delayed/Cancelled]   **For Flight Status:** Status: SUCCESS Service: FLIGHT_STATUS Flight: [Flight number] Status: [On time/Delayed/Cancelled] Departure: [Time and gate] Arrival: [Time and gate]  **For Booking:** Status: SUCCESS Service: FLIGHT_BOOKING Confirmation Code: [Generated code] Route: [Departure] to [Arrival] Date: [Departure date] Passenger: [Name]  **For Cancellation:** Status: SUCCESS Service: CANCELLATION Confirmation: [Confirmation code] cancelled Refund: Processing to original payment method (3-5 business days)  **ERROR RESPONSES:** Status: ERROR Service: [Attempted service] Message: [Clear error description] Reason: [Validation failure/Missing information/System timeout]  **Communication Guidelines:** - Use clear, customer-friendly language - Be specific and actionable in responses - Maintain professional, helpful tone - Always include relevant status information - For booking requests, confirm all details back to customer - For cancellations, provide clear next steps  **Special Handling:** - If customer request is ambiguous, ask clarifying questions to determine which service they need - When multiple services could apply (e.g., \\\\\"check my flight\\\\\"), ask for clarification - Always validate required parameters before making AWS Bedrock calls - Provide helpful suggestions when requests cannot be completed - Handle system timeouts gracefully with clear messaging  **Customer Context:** Your responses will be read directly by airline customers. Prioritize clarity and helpfulness over technical details. Always aim to resolve the customer\\'s issue or provide clear next steps.  **Example Interactions:** - \\\\\"Find my bag on flight AA123, phone 555-123-4567\\\\\" → Use baggage tracking - \\\\\"What\\'s the status of flight DL456?\\\\\" → Use flight status - \\\\\"Book a flight from NYC to LAX on 12/25/2024 for John Smith, 555-987-6543\\\\\" → Use booking - \\\\\"Cancel reservation ABC123, phone 555-444-3333\\\\\" → Use cancellation  Process customer requests by identifying the appropriate service, validating inputs, calling the relevant AWS Bedrock action group, and formatting responses according to these specifications. You are a helpful assistant with tool/function calling capabilities.  If you need an input parameter for a tool/function, ask the user to provide that parameter before making a call to that function/tool. You will have access to a separate tool/function that you MUST use to ask questions to the user. Never call a tool/function before gathering all parameters required for the tool/function call.  It is your responsibility to pick the correct tools/functions that are going to help you answer the user questions. Continue using the provided tools/functions until the initial user request is perfectly addressed. If you do not have the necessary tools/functions to address the initial request, call it out and terminate conversation.  When you receive a tool/function call response, use the output to format an answer to the original user question.  Provide your final answer to the user\\'s question within <answer></answer> xml tags.        \",\"messages\":[{\"content\":\"[{text=Lost bag flight UA123 phone number +17028867563}]\",\"role\":\"user\"}]}', 'traceId': 'f7cbf6e9-e2ef-4292-8b78-1ece67d26054-0', 'type': 'ORCHESTRATION'}}}}}\n",
      "event: {'trace': {'agentAliasId': 'EJASANFEPP', 'agentId': 'JAK1WPUITE', 'agentVersion': '3', 'callerChain': [{'agentAliasArn': 'arn:aws:bedrock:us-east-1:937491601408:agent-alias/JAK1WPUITE/EJASANFEPP'}], 'eventTime': datetime.datetime(2025, 9, 10, 16, 32, 45, 521924, tzinfo=tzutc()), 'sessionId': 'adca1c5e-16b1-4a30-bfe3-228eafb94946', 'trace': {'orchestrationTrace': {'modelInvocationOutput': {'metadata': {'clientRequestId': '23cad932-a2fa-4a24-bd78-b53cfe58fc11', 'endTime': datetime.datetime(2025, 9, 10, 16, 32, 45, 514601, tzinfo=tzutc()), 'startTime': datetime.datetime(2025, 9, 10, 16, 32, 43, 578465, tzinfo=tzutc()), 'totalTimeMs': 1936, 'usage': {'inputTokens': 1778, 'outputTokens': 88}}, 'rawResponse': {'content': '{\"output\":{\"message\":{\"role\":\"assistant\",\"content\":[{\"text\":\"To assist you with your lost bag, I will use the Baggage Tracking service. First, let me validate your phone number and flight number.\\\\n\\\\n[{\\\\\"name\\\\\": \\\\\"baggage_claim_action_group__find_baggage\\\\\", \\\\\"arguments\\\\\": {\\\\\"flightNumber\\\\\": \\\\\"UA123\\\\\", \\\\\"phoneNumber\\\\\": \\\\\"+17028867563\\\\\"}}]\",\"image\":null,\"document\":null,\"video\":null,\"toolUse\":null,\"toolResult\":null,\"guardContent\":null,\"cachePoint\":null,\"reasoningContent\":null,\"citationsContent\":null}]}},\"stopReason\":\"end_turn\",\"usage\":{\"inputTokens\":1778,\"outputTokens\":88,\"totalTokens\":1866,\"cacheReadInputTokenCount\":null,\"cacheWriteInputTokenCount\":null,\"cacheReadInputTokens\":null,\"cacheWriteInputTokens\":null},\"metrics\":{\"latencyMs\":1899},\"additionalModelResponseFields\":null,\"trace\":null,\"performanceConfig\":null}'}, 'traceId': 'f7cbf6e9-e2ef-4292-8b78-1ece67d26054-0'}}}}}\n",
      "event: {'trace': {'agentAliasId': 'EJASANFEPP', 'agentId': 'JAK1WPUITE', 'agentVersion': '3', 'callerChain': [{'agentAliasArn': 'arn:aws:bedrock:us-east-1:937491601408:agent-alias/JAK1WPUITE/EJASANFEPP'}], 'eventTime': datetime.datetime(2025, 9, 10, 16, 32, 45, 568575, tzinfo=tzutc()), 'sessionId': 'adca1c5e-16b1-4a30-bfe3-228eafb94946', 'trace': {'orchestrationTrace': {'observation': {'finalResponse': {'metadata': {'endTime': datetime.datetime(2025, 9, 10, 16, 32, 45, 568375, tzinfo=tzutc()), 'operationTotalTimeMs': 2219, 'startTime': datetime.datetime(2025, 9, 10, 16, 32, 43, 349626, tzinfo=tzutc())}, 'text': 'To assist you with your lost bag, I will use the Baggage Tracking service. First, let me validate your phone number and flight number.\\n\\n[{\"name\": \"baggage_claim_action_group__find_baggage\", \"arguments\": {\"flightNumber\": \"UA123\", \"phoneNumber\": \"+17028867563\"}}]'}, 'traceId': 'f7cbf6e9-e2ef-4292-8b78-1ece67d26054-0', 'type': 'FINISH'}}}}}\n",
      "\n",
      "Observation:\n",
      "  Type: FINISH\n",
      "\n",
      "Final response:\n",
      "  To assist you with your lost bag, I will use the Baggage Tracking\n",
      "  service. First, let me validate your phone number and flight number.\n",
      "  [{\"name\": \"baggage_claim_action_group__find_baggage\", \"arguments\":\n",
      "  {\"flightNumber\": \"UA123\", \"phoneNumber\": \"+17028867563\"}}]\n",
      "event: {'chunk': {'bytes': b'To assist you with your lost bag, I will use the Baggage Tracking service. First, let me validate your phone number and flight number.\\n\\n[{\"name\": \"<REDACTED>__<REDACTED>\", \"arguments\": {\"flightNumber\": \"UA123\", \"phoneNumber\": \"+17028867563\"}}]'}}\n",
      "\n",
      "\n",
      "Session ID: adca1c5e-16b1-4a30-bfe3-228eafb94946\n"
     ]
    }
   ],
   "source": [
    "message = 'Lost bag flight UA123 phone number +17028867563'\n",
    "invoke_agent(agentId = agentId, agentAliasId = agentAliasId, sessionId = sessionId, inputText = message, endSession = False, enableTrace = True)"
   ]
  },
  {
   "cell_type": "code",
   "execution_count": null,
   "id": "b039f574-57a9-4303-9951-1268b030c5b5",
   "metadata": {},
   "outputs": [],
   "source": [
    "message = 'Whats the flight status of UA123'\n",
    "invoke_agent(agentId = agentId, agentAliasId = agentAliasId, sessionId = sessionId, inputText = message, endSession = False, enableTrace = True)"
   ]
  },
  {
   "cell_type": "code",
   "execution_count": null,
   "id": "ff5dffad-906a-4301-9ecd-92b5bcb30838",
   "metadata": {},
   "outputs": [],
   "source": [
    "message = 'Whats the flight status of UA123'\n",
    "invoke_agent(agentId = agentId, agentAliasId = agentAliasId, sessionId = sessionId, inputText = message, endSession = False, enableTrace = True)"
   ]
  },
  {
   "cell_type": "code",
   "execution_count": null,
   "id": "29daef99-1c04-430a-b965-7e1823468ab3",
   "metadata": {},
   "outputs": [],
   "source": []
  },
  {
   "cell_type": "code",
   "execution_count": null,
   "id": "4c2ab3a0-bf23-48ed-95a7-5ca189f7046d",
   "metadata": {},
   "outputs": [],
   "source": []
  }
 ],
 "metadata": {
  "kernelspec": {
   "display_name": "Python 3 (ipykernel)",
   "language": "python",
   "name": "python3"
  },
  "language_info": {
   "codemirror_mode": {
    "name": "ipython",
    "version": 3
   },
   "file_extension": ".py",
   "mimetype": "text/x-python",
   "name": "python",
   "nbconvert_exporter": "python",
   "pygments_lexer": "ipython3",
   "version": "3.13.3"
  }
 },
 "nbformat": 4,
 "nbformat_minor": 5
}
